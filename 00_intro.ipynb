{
 "cells": [
  {
   "cell_type": "markdown",
   "id": "102adf74-abe5-4032-9cad-b05027bc9e0b",
   "metadata": {},
   "source": [
    "# 🧠 Visualising Mathematical Functions - Project Introduction"
   ]
  },
  {
   "cell_type": "markdown",
   "id": "137c0da4-d286-4046-9fc8-bae19368d25b",
   "metadata": {},
   "source": [
    "## 1. Project Overview\n",
    "Mathematical functions are not just formulas to memories for exams - they are concepts that can be understood and explored visually. \n",
    "\n",
    "This project aims to visualise key functions commonly taught in middle and high school mathematics using Python.\n",
    "Each function is explained from the perspective of learners and non-majors, with a focus on intuitive understanding through visualisation and simple commentary. "
   ]
  },
  {
   "cell_type": "markdown",
   "id": "e932f97a-92a2-4d3f-a104-7bf2b106400d",
   "metadata": {},
   "source": [
    "## 2. Tools and Technologies\n",
    "- Python 3.x\n",
    "- Jupyter Notebook\n",
    "- numpy\n",
    "- matplotlib"
   ]
  },
  {
   "cell_type": "markdown",
   "id": "bc448dac-3fae-4e7b-892c-e1077b800deb",
   "metadata": {},
   "source": [
    "## 3. Notebook Structure\n",
    "\n",
    "| Notebook File | Content |\n",
    "|---------------|---------|\n",
    "| `linear_function.ipynb` | Visualising slope and intercept of linear functions |\n",
    "| `quadratic_function.ipynb` | Understanding the shape and vertex of quadratic functions |\n",
    "| `exponential_function.ipynb` | Exploring exponential growth |\n",
    "| `logarithmic_function.ipynb` | Understanding the slow increase of logarithmic functions |\n",
    "| `function_comparison.ipynb` | Comparing different functions in one graph |\n"
   ]
  },
  {
   "cell_type": "markdown",
   "id": "38f8fc5d-b066-425f-80dd-4c06c6aa99f7",
   "metadata": {},
   "source": [
    "## 4. Learning Roadmap \n",
    "\n",
    "1. Linear functions -> Basic concepts and visualisation\n",
    "2. Quadratic functions -> Curves, symmetry, and vertex\n",
    "3. Exponential & logarithmic functions -> Fast vs slow growth\n",
    "4. Summary comparison -> Explore relationships among functions"
   ]
  }
 ],
 "metadata": {
  "kernelspec": {
   "display_name": "Python [conda env:base] *",
   "language": "python",
   "name": "conda-base-py"
  },
  "language_info": {
   "codemirror_mode": {
    "name": "ipython",
    "version": 3
   },
   "file_extension": ".py",
   "mimetype": "text/x-python",
   "name": "python",
   "nbconvert_exporter": "python",
   "pygments_lexer": "ipython3",
   "version": "3.12.7"
  }
 },
 "nbformat": 4,
 "nbformat_minor": 5
}
